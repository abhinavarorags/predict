{
  "nbformat": 4,
  "nbformat_minor": 0,
  "metadata": {
    "colab": {
      "provenance": [],
      "authorship_tag": "ABX9TyP/Ft7quDJ613PaoVbBN6v8",
      "include_colab_link": true
    },
    "kernelspec": {
      "name": "python3",
      "display_name": "Python 3"
    },
    "language_info": {
      "name": "python"
    }
  },
  "cells": [
    {
      "cell_type": "markdown",
      "metadata": {
        "id": "view-in-github",
        "colab_type": "text"
      },
      "source": [
        "<a href=\"https://colab.research.google.com/github/abhinavarorags/predict/blob/main/SinkingFund.ipynb\" target=\"_parent\"><img src=\"https://colab.research.google.com/assets/colab-badge.svg\" alt=\"Open In Colab\"/></a>"
      ]
    },
    {
      "cell_type": "code",
      "execution_count": 1,
      "metadata": {
        "colab": {
          "base_uri": "https://localhost:8080/"
        },
        "id": "mE7rDY6YYmAs",
        "outputId": "71c3126b-334d-4174-c6f5-902e8b6b81ca"
      },
      "outputs": [
        {
          "output_type": "stream",
          "name": "stdout",
          "text": [
            "Collecting Quantlib\n",
            "  Downloading QuantLib-1.37-cp38-abi3-manylinux_2_17_x86_64.manylinux2014_x86_64.whl.metadata (1.1 kB)\n",
            "Downloading QuantLib-1.37-cp38-abi3-manylinux_2_17_x86_64.manylinux2014_x86_64.whl (19.9 MB)\n",
            "\u001b[2K   \u001b[90m━━━━━━━━━━━━━━━━━━━━━━━━━━━━━━━━━━━━━━━━\u001b[0m \u001b[32m19.9/19.9 MB\u001b[0m \u001b[31m41.5 MB/s\u001b[0m eta \u001b[36m0:00:00\u001b[0m\n",
            "\u001b[?25hInstalling collected packages: Quantlib\n",
            "Successfully installed Quantlib-1.37\n",
            "Bond Price: 9.48\n",
            "\n",
            "Cash Flows:\n",
            "September 3rd, 2024 - 25,277.78\n",
            "March 3rd, 2025 - 25,000.00\n",
            "September 2nd, 2025 - 24,861.11\n",
            "March 2nd, 2026 - 25,000.00\n",
            "September 1st, 2026 - 24,861.11\n",
            "March 1st, 2027 - 25,000.00\n",
            "March 1st, 2027 - 0.00\n",
            "\n",
            "Sinking Fund Payments:\n",
            "September 3rd, 2024 - 166,666.67\n",
            "March 3rd, 2025 - 166,666.67\n",
            "September 3rd, 2025 - 166,666.67\n",
            "March 3rd, 2026 - 166,666.67\n",
            "September 3rd, 2026 - 166,666.67\n",
            "March 1st, 2027 - 166,666.67\n"
          ]
        }
      ],
      "source": [
        "!pip install Quantlib\n",
        "import QuantLib as ql\n",
        "\n",
        "# Bond parameters\n",
        "issue_date = ql.Date(1, 3, 2024)  # March 1, 2024\n",
        "maturity_date = ql.Date(1, 3, 2027)  # March 1, 2027\n",
        "coupon_rate = 0.05  # 5% annual coupon\n",
        "face_value = 1000000  # $1,000,000 face value\n",
        "frequency = ql.Semiannual\n",
        "calendar = ql.UnitedStates(ql.UnitedStates.GovernmentBond)\n",
        "day_count = ql.Thirty360(ql.Thirty360.BondBasis)\n",
        "settlement_days = 3\n",
        "\n",
        "# Create bond schedule\n",
        "schedule = ql.Schedule(issue_date, maturity_date, ql.Period(frequency),\n",
        "                       calendar, ql.Following, ql.Following,\n",
        "                       ql.DateGeneration.Backward, False)\n",
        "\n",
        "# Sinking fund schedule (6 equal payments over 3 years)\n",
        "sinking_fund_schedule = ql.CallabilitySchedule()\n",
        "sinking_payment = face_value / 6  # 6 payments over 3 years\n",
        "\n",
        "sinking_date = issue_date\n",
        "for i in range(6):\n",
        "    sinking_date = calendar.advance(sinking_date, 6, ql.Months)\n",
        "    if sinking_date > maturity_date:\n",
        "        sinking_date = maturity_date\n",
        "    callability_price = ql.BondPrice(sinking_payment, ql.BondPrice.Clean)\n",
        "    sinking_fund_schedule.append(\n",
        "        ql.Callability(callability_price, ql.Callability.Call, sinking_date)\n",
        "    )\n",
        "\n",
        "# Create sinking fund bond\n",
        "sinking_bond = ql.CallableFixedRateBond(\n",
        "    settlement_days, face_value, schedule, [coupon_rate],\n",
        "    day_count, ql.Following, 0.0, issue_date,  # Set redemption to 0\n",
        "    sinking_fund_schedule\n",
        ")\n",
        "\n",
        "# Set pricing engine (Hull-White model + tree)\n",
        "rate = 0.03\n",
        "vol = 0.01\n",
        "term_structure = ql.FlatForward(issue_date, ql.QuoteHandle(ql.SimpleQuote(rate)),\n",
        "                                day_count, ql.Compounded, frequency)\n",
        "ts_handle = ql.YieldTermStructureHandle(term_structure)\n",
        "model = ql.HullWhite(ts_handle, 0.03, vol)\n",
        "engine = ql.TreeCallableFixedRateBondEngine(model, 40)\n",
        "\n",
        "# Attach engine to bond\n",
        "sinking_bond.setPricingEngine(engine)\n",
        "\n",
        "# Bond price\n",
        "price = sinking_bond.cleanPrice()\n",
        "print(f\"Bond Price: {price:.2f}\")\n",
        "\n",
        "# Print cash flows\n",
        "print(\"\\nCash Flows:\")\n",
        "for c in sinking_bond.cashflows():\n",
        "    print(f\"{c.date()} - {c.amount():,.2f}\")\n",
        "\n",
        "# Print sinking fund schedule\n",
        "print(\"\\nSinking Fund Payments:\")\n",
        "for s in sinking_fund_schedule:\n",
        "    print(f\"{s.date()} - {s.price().amount():,.2f}\")\n"
      ]
    }
  ]
}